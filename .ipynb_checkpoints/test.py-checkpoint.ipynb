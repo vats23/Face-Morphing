{
 "cells": [
  {
   "cell_type": "code",
   "execution_count": 1,
   "metadata": {},
   "outputs": [],
   "source": [
    "import numpy as np\n",
    "import cv2"
   ]
  },
  {
   "cell_type": "code",
   "execution_count": 2,
   "metadata": {},
   "outputs": [],
   "source": [
    "img_1 = cv2.imread(\"img1.jpg\")\n",
    "img_2 = cv2.imread(\"img2.jpg\")\n",
    "NOF = 10"
   ]
  },
  {
   "cell_type": "code",
   "execution_count": 3,
   "metadata": {},
   "outputs": [],
   "source": [
    "def selectFP(event, x, y, flags, param):\n",
    "    if event == cv2.EVENT_LBUTTONDOWN or event == cv2.EVENT_RBUTTONDOWN:\n",
    "        param[0].append([x,y])\n",
    "        cv2.circle(param[1],(x,y),3,(0,0,255),-1)\n",
    "        cv2.imshow(param[2],param[1])"
   ]
  },
  {
   "cell_type": "code",
   "execution_count": 4,
   "metadata": {},
   "outputs": [
    {
     "name": "stdout",
     "output_type": "stream",
     "text": [
      "points of image 1 \n",
      "x and y value  214  , 205\n",
      "x and y value  303  , 194\n",
      "x and y value  265  , 259\n"
     ]
    }
   ],
   "source": [
    "window1=\"Image 1\"\n",
    "cv2.namedWindow(window1)\n",
    "point1_list=[]\n",
    "t1=(point1_list,img_1,window1)\n",
    "cv2.setMouseCallback(window1,selectFP,t1)\n",
    "cv2.imshow(window1, img_1)\n",
    "cv2.waitKey(0)\n",
    "print(\"points of image 1 \")\n",
    "for u in point1_list:\n",
    "    print(\"x and y value \",u[0],\" ,\",u[1])"
   ]
  },
  {
   "cell_type": "code",
   "execution_count": 5,
   "metadata": {},
   "outputs": [
    {
     "name": "stdout",
     "output_type": "stream",
     "text": [
      "points of image 2\n",
      "x and y value  181  , 250\n",
      "x and y value  280  , 242\n",
      "x and y value  229  , 315\n"
     ]
    }
   ],
   "source": [
    "window2=\"Image 2\"\n",
    "cv2.namedWindow(window2)\n",
    "point2_list=[]\n",
    "t2=(point2_list,img_2,window2)\n",
    "cv2.setMouseCallback(window2,selectFP,t2)\n",
    "cv2.imshow(window2,img_2)\n",
    "cv2.waitKey(0)\n",
    "cv2.destroyAllWindows()\n",
    "print(\"points of image 2\")\n",
    "for u in point2_list:\n",
    "    print(\"x and y value \",u[0],\" ,\",u[1])\n"
   ]
  },
  {
   "cell_type": "code",
   "execution_count": 6,
   "metadata": {},
   "outputs": [],
   "source": [
    "animate = True\n",
    "delaunay_color = (255,255,255)\n",
    "points_color = (0, 0, 255)\n",
    "size=img_1.shape\n",
    "rect = (0,0,size[1],size[0])    #same for both image         \n",
    "win_delaunay = \"Delaunay Triangulation\"\n",
    "subdiv1 = cv2.Subdiv2D(rect)\n",
    "subdiv2 = cv2.Subdiv2D(rect)"
   ]
  },
  {
   "cell_type": "code",
   "execution_count": 7,
   "metadata": {},
   "outputs": [],
   "source": [
    "def rect_contains(rect, point) :\n",
    "    if point[0] < rect[0] :\n",
    "        return False\n",
    "    elif point[1] < rect[1] :\n",
    "        return False\n",
    "    elif point[0] > rect[2] :\n",
    "        return False\n",
    "    elif point[1] > rect[3] :\n",
    "        return False\n",
    "    return True\n",
    "\n",
    "# Draw a point\n",
    "def draw_point(img, p, color ) :\n",
    "    cv2.circle( img, p, 3, color,cv2.cv.CV_FILLED, cv2.LINE_AA, 0 )\n",
    "\n",
    "\n",
    "# Draw delaunay triangles\n",
    "def draw_delaunay(img, subdiv, delaunay_color,flag ) :\n",
    "\n",
    "    triangleList = subdiv.getTriangleList();\n",
    "    size = img.shape\n",
    "    r = (0, 0, size[1], size[0])\n",
    "    for t in triangleList :\n",
    "        temp = []\n",
    "        pt1 = (t[0], t[1])\n",
    "        pt2 = (t[2], t[3])\n",
    "        pt3 = (t[4], t[5])\n",
    "        \n",
    "        if rect_contains(r, pt1) and rect_contains(r, pt2) and rect_contains(r, pt3) :\n",
    "        \n",
    "            cv2.line(img, pt1, pt2, delaunay_color, 1, cv2.LINE_AA, 0)\n",
    "            cv2.line(img, pt2, pt3, delaunay_color, 1, cv2.LINE_AA, 0)\n",
    "            cv2.line(img, pt3, pt1, delaunay_color, 1, cv2.LINE_AA, 0)\n",
    "    if flag==1:\n",
    "        return triangleList"
   ]
  },
  {
   "cell_type": "code",
   "execution_count": 8,
   "metadata": {},
   "outputs": [],
   "source": [
    "def show_animated_delaunay_triangle(img_copy , points_list, subdiv):\n",
    "    for p in points_list:\n",
    "        subdiv.insert(p)\n",
    "        if animate:\n",
    "            imgp_copy = img_copy.copy()\n",
    "            draw_delaunay( imgp_copy, subdiv, (255, 255, 255),0 )\n",
    "            cv2.imshow(win_delaunay, imgp_copy)\n",
    "            cv2.waitKey(100)"
   ]
  },
  {
   "cell_type": "code",
   "execution_count": 9,
   "metadata": {},
   "outputs": [],
   "source": [
    "points_1 = []\n",
    "for p in point1_list:\n",
    "    points_1.append((p[0],p[1]))\n",
    "show_animated_delaunay_triangle(img_1,points_1,subdiv1)\n",
    "cv2.waitKey(0)\n",
    "cv2.destroyAllWindows()"
   ]
  },
  {
   "cell_type": "code",
   "execution_count": 10,
   "metadata": {},
   "outputs": [],
   "source": [
    "points_2 = []\n",
    "for p in point2_list:\n",
    "    points_2.append((p[0],p[1]))\n",
    "show_animated_delaunay_triangle(img_2,points_2,subdiv2)\n",
    "cv2.waitKey(0)\n",
    "cv2.destroyAllWindows()"
   ]
  },
  {
   "cell_type": "code",
   "execution_count": 11,
   "metadata": {
    "scrolled": true
   },
   "outputs": [],
   "source": [
    "points_1.append((0,0))\n",
    "points_1.append((0,img_1.shape[0]-1))\n",
    "points_1.append((img_1.shape[1]-1,0))\n",
    "points_1.append((img_1.shape[1]-1, img_1.shape[0]-1))\n",
    "show_animated_delaunay_triangle(img_1,points_1,subdiv1) \n",
    "triangleList1 = draw_delaunay(img_1,subdiv1,(255,255,255),1)\n",
    "cv2.waitKey(0)\n",
    "cv2.destroyAllWindows()"
   ]
  },
  {
   "cell_type": "code",
   "execution_count": 12,
   "metadata": {},
   "outputs": [],
   "source": [
    "points_2.append((0,0))\n",
    "points_2.append((0,img_2.shape[0]-1))\n",
    "points_2.append((img_2.shape[1]-1,0))\n",
    "points_2.append((img_2.shape[1]-1, img_2.shape[0]-1))\n",
    "show_animated_delaunay_triangle(img_2,points_2,subdiv2) \n",
    "triangleList2 = draw_delaunay(img_2,subdiv2,(255,255,255),1)\n",
    "cv2.waitKey(0)\n",
    "cv2.destroyAllWindows()"
   ]
  },
  {
   "cell_type": "code",
   "execution_count": 13,
   "metadata": {},
   "outputs": [
    {
     "name": "stdout",
     "output_type": "stream",
     "text": [
      "point 1 coordinates \n",
      "\tx:  0.0   499.0\n",
      "point 1 coordinates \n",
      "\tx:  265.0   259.0\n",
      "point 1 coordinates \n",
      "\tx:  499.0   499.0\n",
      "\n",
      "\n",
      "\n",
      "point 1 coordinates \n",
      "\tx:  265.0   259.0\n",
      "point 1 coordinates \n",
      "\tx:  0.0   499.0\n",
      "point 1 coordinates \n",
      "\tx:  214.0   205.0\n",
      "\n",
      "\n",
      "\n",
      "point 1 coordinates \n",
      "\tx:  303.0   194.0\n",
      "point 1 coordinates \n",
      "\tx:  0.0   0.0\n",
      "point 1 coordinates \n",
      "\tx:  499.0   0.0\n",
      "\n",
      "\n",
      "\n",
      "point 1 coordinates \n",
      "\tx:  0.0   0.0\n",
      "point 1 coordinates \n",
      "\tx:  303.0   194.0\n",
      "point 1 coordinates \n",
      "\tx:  214.0   205.0\n",
      "\n",
      "\n",
      "\n",
      "point 1 coordinates \n",
      "\tx:  303.0   194.0\n",
      "point 1 coordinates \n",
      "\tx:  499.0   499.0\n",
      "point 1 coordinates \n",
      "\tx:  265.0   259.0\n",
      "\n",
      "\n",
      "\n",
      "point 1 coordinates \n",
      "\tx:  499.0   499.0\n",
      "point 1 coordinates \n",
      "\tx:  303.0   194.0\n",
      "point 1 coordinates \n",
      "\tx:  499.0   0.0\n",
      "\n",
      "\n",
      "\n",
      "point 1 coordinates \n",
      "\tx:  214.0   205.0\n",
      "point 1 coordinates \n",
      "\tx:  303.0   194.0\n",
      "point 1 coordinates \n",
      "\tx:  265.0   259.0\n",
      "\n",
      "\n",
      "\n",
      "point 1 coordinates \n",
      "\tx:  0.0   0.0\n",
      "point 1 coordinates \n",
      "\tx:  214.0   205.0\n",
      "point 1 coordinates \n",
      "\tx:  0.0   499.0\n",
      "\n",
      "\n",
      "\n"
     ]
    }
   ],
   "source": [
    "cordi1 = []     #mc2\n",
    "for p in triangleList1:\n",
    "    a=(int(p[0]),int(p[1]))\n",
    "    b=(int(p[2]),int(p[3]))\n",
    "    c=(int(p[4]),int(p[5]))\n",
    "    d=[a,b,c]\n",
    "    cordi1.append(d)\n",
    "for p in triangleList1:\n",
    "    print(\"point 1 coordinates \\n\\tx: \",p[0],\" \",p[1])\n",
    "    print(\"point 1 coordinates \\n\\tx: \",p[2],\" \",p[3])\n",
    "    print(\"point 1 coordinates \\n\\tx: \",p[4],\" \",p[5])\n",
    "    print(\"\\n\\n\")"
   ]
  },
  {
   "cell_type": "code",
   "execution_count": null,
   "metadata": {},
   "outputs": [],
   "source": []
  },
  {
   "cell_type": "markdown",
   "metadata": {},
   "source": [
    "## "
   ]
  },
  {
   "cell_type": "code",
   "execution_count": 14,
   "metadata": {},
   "outputs": [],
   "source": [
    "cordi2 = []        #mb2\n",
    "for p in triangleList2:\n",
    "    a=(int(p[0]),int(p[1]))\n",
    "    b=(int(p[2]),int(p[3]))\n",
    "    c=(int(p[4]),int(p[5]))\n",
    "    d=[a,b,c]\n",
    "    cordi2.append(d)"
   ]
  },
  {
   "cell_type": "code",
   "execution_count": 15,
   "metadata": {},
   "outputs": [],
   "source": [
    "#consider NO of Points equal in both images\n",
    "length = len(cordi1)\n",
    "inter_cordi = []       #interMediate_cord\n",
    "for p in range(length):\n",
    "    tempf = []\n",
    "    for o in range(1,NOF):\n",
    "        alp = o/NOF\n",
    "        i = 1-alp\n",
    "        j = alp\n",
    "        temp = []\n",
    "        ax = round(i*cordi1[p][0][0]+j*cordi2[p][0][0])\n",
    "        ay = round(i*cordi1[p][0][1]+j*cordi2[p][0][1])\n",
    "        bx = round(i*cordi1[p][1][0]+j*cordi2[p][1][0])\n",
    "        by = round(i*cordi1[p][1][1]+j*cordi2[p][1][1])\n",
    "        cx = round(i*cordi1[p][2][0]+j*cordi2[p][2][0])\n",
    "        cy = round(i*cordi1[p][2][1]+j*cordi2[p][2][1])\n",
    "        temp = [(ax,ay),(bx,by),(cx,cy)]\n",
    "        tempf.append(temp)\n",
    "    inter_cordi.append(tempf)"
   ]
  },
  {
   "cell_type": "code",
   "execution_count": null,
   "metadata": {},
   "outputs": [],
   "source": []
  }
 ],
 "metadata": {
  "kernelspec": {
   "display_name": "Python 3",
   "language": "python",
   "name": "python3"
  },
  "language_info": {
   "codemirror_mode": {
    "name": "ipython",
    "version": 3
   },
   "file_extension": ".py",
   "mimetype": "text/x-python",
   "name": "python",
   "nbconvert_exporter": "python",
   "pygments_lexer": "ipython3",
   "version": "3.7.2"
  }
 },
 "nbformat": 4,
 "nbformat_minor": 2
}
