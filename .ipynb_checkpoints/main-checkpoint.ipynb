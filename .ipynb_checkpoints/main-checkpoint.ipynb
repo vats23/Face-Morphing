{
 "cells": [
  {
   "cell_type": "code",
   "execution_count": 1,
   "metadata": {},
   "outputs": [],
   "source": [
    "import numpy as np\n",
    "import cv2"
   ]
  },
  {
   "cell_type": "code",
   "execution_count": 2,
   "metadata": {},
   "outputs": [],
   "source": [
    "img_1 = cv2.imread(\"img1.jpg\")\n",
    "img_2 = cv2.imread(\"img2.jpg\")\n",
    "NOF = 5"
   ]
  },
  {
   "cell_type": "code",
   "execution_count": 3,
   "metadata": {},
   "outputs": [],
   "source": [
    "## FUNCTION TO SELECT FEATURE POINTS USING MOUSE CLICK's AND HIGHLIGHTING THAT PIXEL\n",
    "\n",
    "def selectFP(event, x, y, flags, param):\n",
    "    if event == cv2.EVENT_LBUTTONDOWN or event == cv2.EVENT_RBUTTONDOWN:\n",
    "        param[0].append([x,y])\n",
    "        cv2.circle(param[1],(x,y),3,(0,0,255),-1)\n",
    "        cv2.imshow(param[2],param[1])"
   ]
  },
  {
   "cell_type": "code",
   "execution_count": 4,
   "metadata": {},
   "outputs": [
    {
     "name": "stdout",
     "output_type": "stream",
     "text": [
      "points of image 1 \n",
      "x and y value  216  , 205\n",
      "x and y value  306  , 194\n",
      "x and y value  268  , 255\n"
     ]
    }
   ],
   "source": [
    "## CREATING A WINDOW AND BINDING THAT WINDOW TO FUNC TO MOUSECALLBACK AND A LIST WITH HIGHLIGHTED POINTS FOR IMAGE 1\n",
    "\n",
    "\n",
    "window1=\"Image 1\"\n",
    "cv2.namedWindow(window1)\n",
    "point1_list=[]\n",
    "t1=(point1_list,img_1,window1)\n",
    "cv2.setMouseCallback(window1,selectFP,t1)\n",
    "cv2.imshow(window1, img_1)\n",
    "cv2.waitKey(0)\n",
    "print(\"points of image 1 \")\n",
    "for u in point1_list:\n",
    "    print(\"x and y value \",u[0],\" ,\",u[1])"
   ]
  },
  {
   "cell_type": "code",
   "execution_count": 5,
   "metadata": {},
   "outputs": [
    {
     "name": "stdout",
     "output_type": "stream",
     "text": [
      "points of image 2\n",
      "x and y value  180  , 247\n",
      "x and y value  277  , 241\n",
      "x and y value  234  , 307\n"
     ]
    }
   ],
   "source": [
    "## CREATING A WINDOW AND BINDING THAT WINDOW TO FUNC TO MOUSECALLBACK AND A LIST WITH HIGHLIGHTED POINTS FOR IMAGE 2\n",
    "\n",
    "window2=\"Image 2\"\n",
    "cv2.namedWindow(window2)\n",
    "point2_list=[]\n",
    "t2=(point2_list,img_2,window2)\n",
    "cv2.setMouseCallback(window2,selectFP,t2)\n",
    "cv2.imshow(window2,img_2)\n",
    "cv2.waitKey(0)\n",
    "cv2.destroyAllWindows()\n",
    "print(\"points of image 2\")\n",
    "for u in point2_list:\n",
    "    print(\"x and y value \",u[0],\" ,\",u[1])\n"
   ]
  },
  {
   "cell_type": "code",
   "execution_count": 6,
   "metadata": {},
   "outputs": [],
   "source": [
    "animate = True\n",
    "delaunay_color = (255,255,255)\n",
    "points_color = (0, 0, 255)\n",
    "size=img_1.shape\n",
    "rect = (0,0,size[1],size[0])    #same for both image         \n",
    "win_delaunay = \"Delaunay Triangulation\"\n",
    "subdiv1 = cv2.Subdiv2D(rect)\n",
    "subdiv2 = cv2.Subdiv2D(rect)"
   ]
  },
  {
   "cell_type": "code",
   "execution_count": 7,
   "metadata": {},
   "outputs": [],
   "source": [
    "##  rect_contains : checks if a coordinate is inside 4 mentioned points\n",
    "##  dra_delaunay : creates delaunany trinagle for the given coordinates\n",
    "\n",
    "def rect_contains(rect, point) :\n",
    "    if point[0] < rect[0] :\n",
    "        return False\n",
    "    elif point[1] < rect[1] :\n",
    "        return False\n",
    "    elif point[0] > rect[2] :\n",
    "        return False\n",
    "    elif point[1] > rect[3] :\n",
    "        return False\n",
    "    return True\n",
    "\n",
    "\n",
    "# Draw delaunay triangles\n",
    "def draw_delaunay(img, subdiv, delaunay_color,flag ) :\n",
    "\n",
    "    triangleList = subdiv.getTriangleList();\n",
    "    size = img.shape\n",
    "    r = (0, 0, size[1], size[0])\n",
    "    for t in triangleList :\n",
    "        temp = []\n",
    "        pt1 = (t[0], t[1])\n",
    "        pt2 = (t[2], t[3])\n",
    "        pt3 = (t[4], t[5])\n",
    "        \n",
    "        if rect_contains(r, pt1) and rect_contains(r, pt2) and rect_contains(r, pt3) :\n",
    "        \n",
    "            cv2.line(img, pt1, pt2, delaunay_color, 1, cv2.LINE_AA, 0)\n",
    "            cv2.line(img, pt2, pt3, delaunay_color, 1, cv2.LINE_AA, 0)\n",
    "            cv2.line(img, pt3, pt1, delaunay_color, 1, cv2.LINE_AA, 0)\n",
    "    if flag==1:\n",
    "        return triangleList"
   ]
  },
  {
   "cell_type": "code",
   "execution_count": 8,
   "metadata": {},
   "outputs": [],
   "source": [
    "## show_animated_delaunay_triangles : creates animated with making of delaunay triangles\n",
    "\n",
    "def show_animated_delaunay_triangle(img_copy , points_list, subdiv):\n",
    "    for p in points_list:\n",
    "        subdiv.insert(p)\n",
    "        if animate:\n",
    "            imgp_copy = img_copy.copy()\n",
    "            draw_delaunay( imgp_copy, subdiv, (255, 255, 255),0 )\n",
    "            cv2.imshow(win_delaunay, imgp_copy)\n",
    "            cv2.waitKey(100)"
   ]
  },
  {
   "cell_type": "code",
   "execution_count": 9,
   "metadata": {},
   "outputs": [],
   "source": [
    "points_1 = []\n",
    "for p in point1_list:\n",
    "    points_1.append((p[0],p[1]))"
   ]
  },
  {
   "cell_type": "code",
   "execution_count": 10,
   "metadata": {},
   "outputs": [],
   "source": [
    "points_2 = []\n",
    "for p in point2_list:\n",
    "    points_2.append((p[0],p[1]))"
   ]
  },
  {
   "cell_type": "code",
   "execution_count": 11,
   "metadata": {},
   "outputs": [
    {
     "name": "stdout",
     "output_type": "stream",
     "text": [
      "[  0. 499. 268. 255. 499. 499.]\n",
      "[268. 255.   0. 499. 216. 205.]\n",
      "[306. 194.   0.   0. 499.   1.]\n",
      "[  0.   0. 306. 194. 216. 205.]\n",
      "[306. 194. 499. 499. 268. 255.]\n",
      "[499. 499. 306. 194. 499.   1.]\n",
      "[216. 205. 306. 194. 268. 255.]\n",
      "[  0.   0. 216. 205.   0. 499.]\n"
     ]
    }
   ],
   "source": [
    "## Adding corner points of image so that good Delaunay triangles can be made from image 1\n",
    "\n",
    "points_1.append((0,0))\n",
    "points_1.append((0,img_1.shape[0]-1))\n",
    "points_1.append((img_1.shape[1]-1,1))\n",
    "points_1.append((img_1.shape[1]-1, img_1.shape[0]-1))\n",
    "show_animated_delaunay_triangle(img_1,points_1,subdiv1)\n",
    "triangleList1 = draw_delaunay(img_1,subdiv1,(255,255,255),1)\n",
    "cv2.waitKey(0)\n",
    "cv2.destroyAllWindows()\n",
    "for p in triangleList1:\n",
    "    print(p)"
   ]
  },
  {
   "cell_type": "code",
   "execution_count": 12,
   "metadata": {},
   "outputs": [
    {
     "name": "stdout",
     "output_type": "stream",
     "text": [
      "[  0. 499. 234. 307. 499. 499.]\n",
      "[234. 307.   0. 499. 180. 247.]\n",
      "[  0. 499.   0.   0. 180. 247.]\n",
      "[499.   1. 499. 499. 277. 241.]\n",
      "[277. 241. 499. 499. 234. 307.]\n",
      "[180. 247. 277. 241. 234. 307.]\n",
      "[277. 241. 180. 247.   0.   0.]\n",
      "[277. 241.   0.   0. 499.   1.]\n"
     ]
    }
   ],
   "source": [
    "## Adding corner points of image so that good Delaunay triangles can be made from image 2\n",
    "\n",
    "points_2.append((0,0))\n",
    "points_2.append((0,img_2.shape[0]-1))\n",
    "points_2.append((img_2.shape[1]-1,1))\n",
    "points_2.append((img_2.shape[1]-1, img_2.shape[0]-1))\n",
    "show_animated_delaunay_triangle(img_2,points_2,subdiv2)\n",
    "\n",
    "triangleList2 = draw_delaunay(img_2,subdiv2,(255,255,255),1)\n",
    "cv2.waitKey(0)\n",
    "cv2.destroyAllWindows()\n",
    "for p in triangleList2:\n",
    "    print(p)"
   ]
  },
  {
   "cell_type": "code",
   "execution_count": 13,
   "metadata": {},
   "outputs": [
    {
     "name": "stdout",
     "output_type": "stream",
     "text": [
      "[(0, 0), (0, 499), (216, 205)]\n",
      "[(0, 0), (216, 205), (306, 194)]\n",
      "[(0, 0), (306, 194), (499, 1)]\n",
      "[(0, 499), (216, 205), (268, 255)]\n",
      "[(0, 499), (268, 255), (499, 499)]\n",
      "[(216, 205), (268, 255), (306, 194)]\n",
      "[(268, 255), (306, 194), (499, 499)]\n",
      "[(306, 194), (499, 1), (499, 499)]\n"
     ]
    }
   ],
   "source": [
    "## Creating a list so that we can have triangles in one tuple  and sorted so that we can have corresponding triangles in both the images \n",
    "\n",
    "cordi1 = []\n",
    "for p in triangleList1:\n",
    "    a=(int(p[0]),int(p[1]))\n",
    "    b=(int(p[2]),int(p[3]))\n",
    "    c=(int(p[4]),int(p[5]))\n",
    "    d=[a,b,c]\n",
    "    cordi1.append(d)\n",
    "##      SORTING VALUES SO THAT WE CAN \n",
    "for p in cordi1:\n",
    "    p.sort()\n",
    "cordi1.sort()\n",
    "for p in cordi1:\n",
    "    print(p)"
   ]
  },
  {
   "cell_type": "code",
   "execution_count": 14,
   "metadata": {},
   "outputs": [
    {
     "name": "stdout",
     "output_type": "stream",
     "text": [
      "[(0, 0), (0, 499), (180, 247)]\n",
      "[(0, 0), (180, 247), (277, 241)]\n",
      "[(0, 0), (277, 241), (499, 1)]\n",
      "[(0, 499), (180, 247), (234, 307)]\n",
      "[(0, 499), (234, 307), (499, 499)]\n",
      "[(180, 247), (234, 307), (277, 241)]\n",
      "[(234, 307), (277, 241), (499, 499)]\n",
      "[(277, 241), (499, 1), (499, 499)]\n"
     ]
    }
   ],
   "source": [
    "cordi2 = [] \n",
    "for p in triangleList2:\n",
    "    a=(int(p[0]),int(p[1]))\n",
    "    b=(int(p[2]),int(p[3]))\n",
    "    c=(int(p[4]),int(p[5]))\n",
    "    d=[a,b,c]\n",
    "    cordi2.append(d)\n",
    "for p in cordi2:\n",
    "    p.sort()\n",
    "cordi2.sort()\n",
    "for p in cordi2:\n",
    "    print(p)"
   ]
  },
  {
   "cell_type": "code",
   "execution_count": 15,
   "metadata": {},
   "outputs": [
    {
     "name": "stdout",
     "output_type": "stream",
     "text": [
      "3\n"
     ]
    }
   ],
   "source": [
    "## Coordinates for intermediate frames using  M(x,y) = i*I(x,y) + (1-i)*J(x,y)\n",
    "\n",
    "length = len(cordi1)\n",
    "inter_cordi = []       \n",
    "for p in range(length):\n",
    "    tempf = []\n",
    "    for o in range(1,NOF):\n",
    "        alp = o/NOF\n",
    "        i = 1-alp\n",
    "        j = alp\n",
    "        temp = []\n",
    "        ax = round(i*cordi1[p][0][0]+j*cordi2[p][0][0])\n",
    "        ay = round(i*cordi1[p][0][1]+j*cordi2[p][0][1])\n",
    "        bx = round(i*cordi1[p][1][0]+j*cordi2[p][1][0])\n",
    "        by = round(i*cordi1[p][1][1]+j*cordi2[p][1][1])\n",
    "        cx = round(i*cordi1[p][2][0]+j*cordi2[p][2][0])\n",
    "        cy = round(i*cordi1[p][2][1]+j*cordi2[p][2][1])\n",
    "        temp = [(ax,ay),(bx,by),(cx,cy)]\n",
    "        tempf.append(temp)\n",
    "    inter_cordi.append(tempf)\n",
    "print(len(inter_cordi[0][0]))"
   ]
  },
  {
   "cell_type": "code",
   "execution_count": 16,
   "metadata": {},
   "outputs": [],
   "source": [
    "## Affine : Find intermediate images and store them in our space\n",
    "## len(c[0]) : is the number of frames and len(a) is number of triangles\n",
    "\n",
    "\n",
    "def Affine(img11, img22, a, b, c):\n",
    "    n = len(c[0])\n",
    "\n",
    "    test_img1 = np.zeros([500, 500, 3], dtype=np.uint8)\n",
    "    test_img1.fill(255)\n",
    "    test_img2 = np.zeros([500, 500, 3], dtype=np.uint8)\n",
    "    test_img2.fill(255)\n",
    "    for i in range(1, n+1):\n",
    "        test_img1.fill(255)\n",
    "        test_img2.fill(255)\n",
    "        for j in range(len(a)):\n",
    "            imgf= affine_color(img11, img22, test_img1,a[j], b[j], c[j][i-1], n, i, j)\n",
    "        avg = cv2.addWeighted(img11, ((n-i)/n), img22, (i/n), 0)\n",
    "        resize_img = cv2.resize(avg, (500, 500), interpolation=cv2.INTER_AREA)\n",
    "        inter = cv2.addWeighted(resize_img, 0.1, imgf, 0.9, 0)\n",
    "        y = \"test%i.jpg\" % i\n",
    "        cv2.imwrite(y, imgf)"
   ]
  },
  {
   "cell_type": "code",
   "execution_count": 17,
   "metadata": {},
   "outputs": [],
   "source": [
    "## area : to calculate area of a triangle\n",
    "## isInside : To check no of points that are inside a 3 points i.e a triangle using sum of area algo\n",
    "\n",
    "def area(x1,y1,x2,y2,x3,y3):\n",
    "    return abs( x1*(y2-y3) + x2*(y3-y1) + x3*(y1-y2) )\n",
    "\n",
    "def isInside(x1,y1,x2,y2,x3,y3):\n",
    "    points = []\n",
    "    a_area = area(x1,y1,x2,y2,x3,y3)\n",
    "    for i in range(0,500):\n",
    "        for j in range(0,500):\n",
    "            a1=area(i,j,x2,y2,x3,y3)\n",
    "            a2=area(x1,y1,i,j,x3,y3)\n",
    "            a3=area(x1,y1,x2,y2,i,j)\n",
    "            if a1+a2+a3 == a_area:\n",
    "                points.append((i,j)) \n",
    "    return points\n",
    "    "
   ]
  },
  {
   "cell_type": "code",
   "execution_count": 18,
   "metadata": {},
   "outputs": [],
   "source": [
    "## affine_color : to define intensity of pixels in set of triangle of a particular frame\n",
    "\n",
    "def affine_color(img1, img2, inter, a, b, c, n, i, j):\n",
    "    rang = []\n",
    "    \n",
    "    x1 = [(c[0][0],c[0][1]),(c[1][0],c[1][1]),(c[2][0],c[2][1])]\n",
    "    x11 = [(a[0][0],a[0][1]),(a[1][0],a[1][1]),(a[2][0],a[2][1])]\n",
    "    x12 = [(b[0][0],b[0][1]),(b[1][0],b[1][1]),(b[2][0],b[2][1])]\n",
    "    point = 0\n",
    "    alp = i/n\n",
    "    v = 1 - alp\n",
    "    u = alp\n",
    "    points = isInside(x1[0][0], x1[0][1], x1[1][0], x1[1][1], x1[2][0], x1[2][1])\n",
    "    for p in points:\n",
    "        x = p[0]\n",
    "        y = p[1]\n",
    "        point = 1\n",
    "        l = (x-x1[2][0])\n",
    "        m = (x1[1][0]-x1[2][0])\n",
    "        n = (y-x1[2][1])\n",
    "        o = (x1[1][1]-x1[2][1])\n",
    "        L = np.array([[(x1[1][0]-x1[0][0]), (x1[2][0]-x1[0][0])], [(x1[1][1]-x1[0][1]), (x1[2][1]-x1[0][1])]])\n",
    "        M = np.array([x-x1[0][0], y-x1[0][1]])\n",
    "        N = np.linalg.solve(L, M)\n",
    "        alx = N[0]\n",
    "        aly = N[0]\n",
    "        bex = N[1]\n",
    "        bey = N[1]\n",
    "        ax = round(x11[0][0]+(alx*(x11[1][0]-x11[0][0]))+(bex*(x11[2][0]-x11[0][0])))\n",
    "        ax = int(ax) if ax < 500 else 499\n",
    "        ay = round(x11[0][1]+(aly*(x11[1][1]-x11[0][1]))+(bey*(x11[2][1]-x11[0][1])))\n",
    "        ay = int(ay) if ay < 500 else 499\n",
    "        bx = round(x12[0][0]+(alx*(x12[1][0]-x12[0][0]))+(bex*(x12[2][0]-x12[0][0])))\n",
    "        bx = int(bx) if bx < 500 else 499\n",
    "        by = round(x12[0][1]+(aly*(x12[1][1]-x12[0][1]))+(bey*(x12[2][1]-x12[0][1])))\n",
    "        by = int(by) if by < 500 else 499\n",
    "        if(x >= 500 or y >= 500 or ax >= 500 or ay >= 500 or bx >= 500 or by >= 500):\n",
    "            continue\n",
    "        if(x < 0 or y < 0 or ax < 0 or ay < 0 or bx < 0 or by < 0):\n",
    "            continue\n",
    "        inter[y][x] = np.rint((v*(img1[ay][ax]))+(u*(img2[by][bx])))\n",
    "        cv2.imshow(\"intermediate frame\",inter)\n",
    "    return inter\n"
   ]
  },
  {
   "cell_type": "code",
   "execution_count": 19,
   "metadata": {},
   "outputs": [
    {
     "ename": "NameError",
     "evalue": "name 'imshow' is not defined",
     "output_type": "error",
     "traceback": [
      "\u001b[1;31m---------------------------------------------------------------------------\u001b[0m",
      "\u001b[1;31mNameError\u001b[0m                                 Traceback (most recent call last)",
      "\u001b[1;32m<ipython-input-19-537714cecf03>\u001b[0m in \u001b[0;36m<module>\u001b[1;34m\u001b[0m\n\u001b[0;32m      1\u001b[0m \u001b[0mimag_1\u001b[0m \u001b[1;33m=\u001b[0m \u001b[0mcv2\u001b[0m\u001b[1;33m.\u001b[0m\u001b[0mimread\u001b[0m\u001b[1;33m(\u001b[0m\u001b[1;34m\"img1.jpg\"\u001b[0m\u001b[1;33m)\u001b[0m\u001b[1;33m\u001b[0m\u001b[1;33m\u001b[0m\u001b[0m\n\u001b[0;32m      2\u001b[0m \u001b[0mimag_2\u001b[0m \u001b[1;33m=\u001b[0m \u001b[0mcv2\u001b[0m\u001b[1;33m.\u001b[0m\u001b[0mimread\u001b[0m\u001b[1;33m(\u001b[0m\u001b[1;34m\"img2.jpg\"\u001b[0m\u001b[1;33m)\u001b[0m\u001b[1;33m\u001b[0m\u001b[1;33m\u001b[0m\u001b[0m\n\u001b[1;32m----> 3\u001b[1;33m \u001b[0mAffine\u001b[0m\u001b[1;33m(\u001b[0m\u001b[0mimag_1\u001b[0m\u001b[1;33m,\u001b[0m\u001b[0mimag_2\u001b[0m\u001b[1;33m,\u001b[0m\u001b[0mcordi1\u001b[0m\u001b[1;33m,\u001b[0m\u001b[0mcordi2\u001b[0m\u001b[1;33m,\u001b[0m\u001b[0minter_cordi\u001b[0m\u001b[1;33m)\u001b[0m\u001b[1;33m\u001b[0m\u001b[1;33m\u001b[0m\u001b[0m\n\u001b[0m",
      "\u001b[1;32m<ipython-input-16-e380c26d2368>\u001b[0m in \u001b[0;36mAffine\u001b[1;34m(img11, img22, a, b, c)\u001b[0m\n\u001b[0;32m     14\u001b[0m         \u001b[0mtest_img2\u001b[0m\u001b[1;33m.\u001b[0m\u001b[0mfill\u001b[0m\u001b[1;33m(\u001b[0m\u001b[1;36m255\u001b[0m\u001b[1;33m)\u001b[0m\u001b[1;33m\u001b[0m\u001b[1;33m\u001b[0m\u001b[0m\n\u001b[0;32m     15\u001b[0m         \u001b[1;32mfor\u001b[0m \u001b[0mj\u001b[0m \u001b[1;32min\u001b[0m \u001b[0mrange\u001b[0m\u001b[1;33m(\u001b[0m\u001b[0mlen\u001b[0m\u001b[1;33m(\u001b[0m\u001b[0ma\u001b[0m\u001b[1;33m)\u001b[0m\u001b[1;33m)\u001b[0m\u001b[1;33m:\u001b[0m\u001b[1;33m\u001b[0m\u001b[1;33m\u001b[0m\u001b[0m\n\u001b[1;32m---> 16\u001b[1;33m             \u001b[0mimgf\u001b[0m\u001b[1;33m=\u001b[0m \u001b[0maffine_color\u001b[0m\u001b[1;33m(\u001b[0m\u001b[0mimg11\u001b[0m\u001b[1;33m,\u001b[0m \u001b[0mimg22\u001b[0m\u001b[1;33m,\u001b[0m \u001b[0mtest_img1\u001b[0m\u001b[1;33m,\u001b[0m\u001b[0ma\u001b[0m\u001b[1;33m[\u001b[0m\u001b[0mj\u001b[0m\u001b[1;33m]\u001b[0m\u001b[1;33m,\u001b[0m \u001b[0mb\u001b[0m\u001b[1;33m[\u001b[0m\u001b[0mj\u001b[0m\u001b[1;33m]\u001b[0m\u001b[1;33m,\u001b[0m \u001b[0mc\u001b[0m\u001b[1;33m[\u001b[0m\u001b[0mj\u001b[0m\u001b[1;33m]\u001b[0m\u001b[1;33m[\u001b[0m\u001b[0mi\u001b[0m\u001b[1;33m-\u001b[0m\u001b[1;36m1\u001b[0m\u001b[1;33m]\u001b[0m\u001b[1;33m,\u001b[0m \u001b[0mn\u001b[0m\u001b[1;33m,\u001b[0m \u001b[0mi\u001b[0m\u001b[1;33m,\u001b[0m \u001b[0mj\u001b[0m\u001b[1;33m)\u001b[0m\u001b[1;33m\u001b[0m\u001b[1;33m\u001b[0m\u001b[0m\n\u001b[0m\u001b[0;32m     17\u001b[0m         \u001b[0mavg\u001b[0m \u001b[1;33m=\u001b[0m \u001b[0mcv2\u001b[0m\u001b[1;33m.\u001b[0m\u001b[0maddWeighted\u001b[0m\u001b[1;33m(\u001b[0m\u001b[0mimg11\u001b[0m\u001b[1;33m,\u001b[0m \u001b[1;33m(\u001b[0m\u001b[1;33m(\u001b[0m\u001b[0mn\u001b[0m\u001b[1;33m-\u001b[0m\u001b[0mi\u001b[0m\u001b[1;33m)\u001b[0m\u001b[1;33m/\u001b[0m\u001b[0mn\u001b[0m\u001b[1;33m)\u001b[0m\u001b[1;33m,\u001b[0m \u001b[0mimg22\u001b[0m\u001b[1;33m,\u001b[0m \u001b[1;33m(\u001b[0m\u001b[0mi\u001b[0m\u001b[1;33m/\u001b[0m\u001b[0mn\u001b[0m\u001b[1;33m)\u001b[0m\u001b[1;33m,\u001b[0m \u001b[1;36m0\u001b[0m\u001b[1;33m)\u001b[0m\u001b[1;33m\u001b[0m\u001b[1;33m\u001b[0m\u001b[0m\n\u001b[0;32m     18\u001b[0m         \u001b[0mresize_img\u001b[0m \u001b[1;33m=\u001b[0m \u001b[0mcv2\u001b[0m\u001b[1;33m.\u001b[0m\u001b[0mresize\u001b[0m\u001b[1;33m(\u001b[0m\u001b[0mavg\u001b[0m\u001b[1;33m,\u001b[0m \u001b[1;33m(\u001b[0m\u001b[1;36m500\u001b[0m\u001b[1;33m,\u001b[0m \u001b[1;36m500\u001b[0m\u001b[1;33m)\u001b[0m\u001b[1;33m,\u001b[0m \u001b[0minterpolation\u001b[0m\u001b[1;33m=\u001b[0m\u001b[0mcv2\u001b[0m\u001b[1;33m.\u001b[0m\u001b[0mINTER_AREA\u001b[0m\u001b[1;33m)\u001b[0m\u001b[1;33m\u001b[0m\u001b[1;33m\u001b[0m\u001b[0m\n",
      "\u001b[1;32m<ipython-input-18-06c1ea9a91a9>\u001b[0m in \u001b[0;36maffine_color\u001b[1;34m(img1, img2, inter, a, b, c, n, i, j)\u001b[0m\n\u001b[0;32m     40\u001b[0m             \u001b[1;32mcontinue\u001b[0m\u001b[1;33m\u001b[0m\u001b[1;33m\u001b[0m\u001b[0m\n\u001b[0;32m     41\u001b[0m         \u001b[0minter\u001b[0m\u001b[1;33m[\u001b[0m\u001b[0my\u001b[0m\u001b[1;33m]\u001b[0m\u001b[1;33m[\u001b[0m\u001b[0mx\u001b[0m\u001b[1;33m]\u001b[0m \u001b[1;33m=\u001b[0m \u001b[0mnp\u001b[0m\u001b[1;33m.\u001b[0m\u001b[0mrint\u001b[0m\u001b[1;33m(\u001b[0m\u001b[1;33m(\u001b[0m\u001b[0mv\u001b[0m\u001b[1;33m*\u001b[0m\u001b[1;33m(\u001b[0m\u001b[0mimg1\u001b[0m\u001b[1;33m[\u001b[0m\u001b[0may\u001b[0m\u001b[1;33m]\u001b[0m\u001b[1;33m[\u001b[0m\u001b[0max\u001b[0m\u001b[1;33m]\u001b[0m\u001b[1;33m)\u001b[0m\u001b[1;33m)\u001b[0m\u001b[1;33m+\u001b[0m\u001b[1;33m(\u001b[0m\u001b[0mu\u001b[0m\u001b[1;33m*\u001b[0m\u001b[1;33m(\u001b[0m\u001b[0mimg2\u001b[0m\u001b[1;33m[\u001b[0m\u001b[0mby\u001b[0m\u001b[1;33m]\u001b[0m\u001b[1;33m[\u001b[0m\u001b[0mbx\u001b[0m\u001b[1;33m]\u001b[0m\u001b[1;33m)\u001b[0m\u001b[1;33m)\u001b[0m\u001b[1;33m)\u001b[0m\u001b[1;33m\u001b[0m\u001b[1;33m\u001b[0m\u001b[0m\n\u001b[1;32m---> 42\u001b[1;33m         \u001b[0mimshow\u001b[0m\u001b[1;33m(\u001b[0m\u001b[1;34m\"intermediate frame\"\u001b[0m\u001b[1;33m,\u001b[0m\u001b[0minter\u001b[0m\u001b[1;33m)\u001b[0m\u001b[1;33m\u001b[0m\u001b[1;33m\u001b[0m\u001b[0m\n\u001b[0m\u001b[0;32m     43\u001b[0m     \u001b[1;32mreturn\u001b[0m \u001b[0minter\u001b[0m\u001b[1;33m\u001b[0m\u001b[1;33m\u001b[0m\u001b[0m\n",
      "\u001b[1;31mNameError\u001b[0m: name 'imshow' is not defined"
     ]
    }
   ],
   "source": [
    "imag_1 = cv2.imread(\"img1.jpg\")\n",
    "imag_2 = cv2.imread(\"img2.jpg\")\n",
    "Affine(imag_1,imag_2,cordi1,cordi2,inter_cordi)"
   ]
  },
  {
   "cell_type": "code",
   "execution_count": null,
   "metadata": {},
   "outputs": [],
   "source": []
  }
 ],
 "metadata": {
  "kernelspec": {
   "display_name": "Python 3",
   "language": "python",
   "name": "python3"
  },
  "language_info": {
   "codemirror_mode": {
    "name": "ipython",
    "version": 3
   },
   "file_extension": ".py",
   "mimetype": "text/x-python",
   "name": "python",
   "nbconvert_exporter": "python",
   "pygments_lexer": "ipython3",
   "version": "3.7.2"
  }
 },
 "nbformat": 4,
 "nbformat_minor": 2
}
